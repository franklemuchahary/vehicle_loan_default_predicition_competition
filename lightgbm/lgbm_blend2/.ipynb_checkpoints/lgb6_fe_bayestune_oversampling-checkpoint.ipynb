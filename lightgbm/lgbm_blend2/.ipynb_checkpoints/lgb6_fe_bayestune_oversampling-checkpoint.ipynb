{
 "cells": [
  {
   "cell_type": "code",
   "execution_count": 2,
   "metadata": {
    "_cell_guid": "b1076dfc-b9ad-4769-8c92-a6c4dae69d19",
    "_uuid": "8f2839f25d086af736a60e9eeb907d3b93b6e0e5",
    "collapsed": true
   },
   "outputs": [],
   "source": [
    "import pandas as pd\n",
    "import numpy as np\n",
    "import matplotlib.pyplot as plt\n",
    "import seaborn as sns\n",
    "import gc\n",
    "from collections import Counter\n",
    "import math\n",
    "import random\n",
    "\n",
    "#%matplotlib inline"
   ]
  },
  {
   "cell_type": "code",
   "execution_count": null,
   "metadata": {
    "_cell_guid": "79c7e3d0-c299-4dcb-8224-4455121ee9b0",
    "_uuid": "d629ff2d2480ee46fbb7e2d37f6b5fab8052498a",
    "collapsed": true
   },
   "outputs": [],
   "source": [
    "from sklearn.model_selection import StratifiedKFold\n",
    "from sklearn.ensemble import RandomForestClassifier, GradientBoostingClassifier\n",
    "from sklearn import preprocessing\n",
    "from sklearn.metrics import roc_auc_score\n",
    "import lightgbm as lgb\n",
    "from imblearn.over_sampling import RandomOverSampler, SMOTE\n",
    "from skopt import BayesSearchCV"
   ]
  },
  {
   "cell_type": "markdown",
   "metadata": {},
   "source": [
    "#### Helper Functions"
   ]
  },
  {
   "cell_type": "code",
   "execution_count": null,
   "metadata": {
    "collapsed": true
   },
   "outputs": [],
   "source": [
    "def label_encoding_func(df_name, df_col_name):\n",
    "    '''\n",
    "    usage: dataframe[column_name] = label_encoding_function(dataframe, column_name)\n",
    "    '''\n",
    "    le = preprocessing.LabelEncoder()\n",
    "    le.fit(df_name[df_col_name])\n",
    "    return le.transform(df_name[df_col_name])"
   ]
  },
  {
   "cell_type": "code",
   "execution_count": null,
   "metadata": {
    "collapsed": true
   },
   "outputs": [],
   "source": [
    "def do_one_hot_encoding(df_name, df_column_name, suffix=''):\n",
    "    '''\n",
    "    usage: dataframe[column_name] = do_one_hot_encoding(dataframe, column_name, suffix_for_column_name)\n",
    "    '''\n",
    "    x = pd.get_dummies(df_name[df_column_name])\n",
    "    df_name = df_name.join(x, lsuffix=suffix)\n",
    "    df_name = df_name.drop(df_column_name, axis=1) \n",
    "    return df_name"
   ]
  },
  {
   "cell_type": "markdown",
   "metadata": {},
   "source": [
    "#### Load Data"
   ]
  },
  {
   "cell_type": "code",
   "execution_count": 4,
   "metadata": {
    "collapsed": true
   },
   "outputs": [],
   "source": [
    "path = '../../feature_engineering_eda_data/' \n",
    "train_file = 'train_feature_engineered_V1.csv'\n",
    "test_file = 'test_feature_engineered_V1.csv'"
   ]
  },
  {
   "cell_type": "code",
   "execution_count": 5,
   "metadata": {
    "collapsed": true
   },
   "outputs": [],
   "source": [
    "train_df = pd.read_csv(path+train_file)\n",
    "test_df = pd.read_csv(path+test_file)\n",
    "sample_submission = pd.read_csv(path+'sample_submission_24jSKY6.csv')"
   ]
  },
  {
   "cell_type": "markdown",
   "metadata": {},
   "source": [
    "#### Sample Data"
   ]
  },
  {
   "cell_type": "code",
   "execution_count": null,
   "metadata": {
    "collapsed": true
   },
   "outputs": [],
   "source": [
    "pd.set_option('display.max_columns', 100)"
   ]
  },
  {
   "cell_type": "code",
   "execution_count": null,
   "metadata": {
    "collapsed": true
   },
   "outputs": [],
   "source": [
    "train_df.head()"
   ]
  },
  {
   "cell_type": "code",
   "execution_count": null,
   "metadata": {
    "collapsed": true
   },
   "outputs": [],
   "source": [
    "test_df.head()"
   ]
  },
  {
   "cell_type": "markdown",
   "metadata": {},
   "source": [
    "## Data Cleaning / Exploration"
   ]
  },
  {
   "cell_type": "markdown",
   "metadata": {},
   "source": [
    "#### Distribution of Target"
   ]
  },
  {
   "cell_type": "code",
   "execution_count": null,
   "metadata": {
    "collapsed": true
   },
   "outputs": [],
   "source": [
    "print(train_df['loan_default'].value_counts()/sum(train_df['loan_default'].value_counts()))\n",
    "(train_df['loan_default'].value_counts()/sum(train_df['loan_default'].value_counts())).plot(kind='bar')\n",
    "plt.show()"
   ]
  },
  {
   "cell_type": "markdown",
   "metadata": {},
   "source": [
    "#### Remove cols from train and test and separate target"
   ]
  },
  {
   "cell_type": "code",
   "execution_count": null,
   "metadata": {
    "collapsed": true
   },
   "outputs": [],
   "source": [
    "cols_to_exclude = ['loan_default', 'UniqueID', 'SEC.ACTIVE.ACCTS', 'SEC.OVERDUE.ACCTS',\n",
    "                  'SEC.CURRENT.BALANCE', 'SEC.SANCTIONED.AMOUNT', 'SEC.DISBURSED.AMOUNT', \n",
    "                  'MobileNo_Avl_Flag', 'Passport_flag', 'Driving_flag']\n",
    "\n",
    "X_train = train_df[train_df.columns.difference(cols_to_exclude)]\n",
    "X_test = test_df[train_df.columns.difference(cols_to_exclude)]\n",
    "Y = train_df['loan_default']"
   ]
  },
  {
   "cell_type": "code",
   "execution_count": null,
   "metadata": {
    "collapsed": true
   },
   "outputs": [],
   "source": [
    "### Concat train and test for common preprocessing\n",
    "concat_df = pd.concat([X_train, X_test], keys=['train', 'test'])"
   ]
  },
  {
   "cell_type": "code",
   "execution_count": null,
   "metadata": {
    "collapsed": true
   },
   "outputs": [],
   "source": [
    "concat_df.head()"
   ]
  },
  {
   "cell_type": "markdown",
   "metadata": {},
   "source": [
    "#### Check for nulls"
   ]
  },
  {
   "cell_type": "code",
   "execution_count": null,
   "metadata": {
    "collapsed": true
   },
   "outputs": [],
   "source": [
    "concat_df.isna().sum(axis=0).reset_index().T"
   ]
  },
  {
   "cell_type": "code",
   "execution_count": null,
   "metadata": {
    "collapsed": true
   },
   "outputs": [],
   "source": [
    "#### replace nulls as a new category\n",
    "concat_df['Employment.Type'].fillna('NA', inplace=True)"
   ]
  },
  {
   "cell_type": "markdown",
   "metadata": {},
   "source": [
    "#### Label encode strings"
   ]
  },
  {
   "cell_type": "code",
   "execution_count": null,
   "metadata": {
    "collapsed": true
   },
   "outputs": [],
   "source": [
    "def label_encode_apply(df):\n",
    "    if df[0] == object:\n",
    "        concat_df[df['index']] = label_encoding_func(concat_df, df['index'])\n",
    "        \n",
    "_ = concat_df.dtypes.reset_index().apply(label_encode_apply, axis=1)\n",
    "print('Done')"
   ]
  },
  {
   "cell_type": "code",
   "execution_count": null,
   "metadata": {
    "collapsed": true
   },
   "outputs": [],
   "source": [
    "concat_df.head()"
   ]
  },
  {
   "cell_type": "markdown",
   "metadata": {},
   "source": [
    "#### Separate train and test"
   ]
  },
  {
   "cell_type": "code",
   "execution_count": null,
   "metadata": {
    "collapsed": true
   },
   "outputs": [],
   "source": [
    "X_train = concat_df.loc['train']\n",
    "X_test = concat_df.loc['test']\n",
    "print(X_train.shape)\n",
    "print(X_test.shape)"
   ]
  },
  {
   "cell_type": "markdown",
   "metadata": {},
   "source": [
    "## Baseline Model Building"
   ]
  },
  {
   "cell_type": "code",
   "execution_count": null,
   "metadata": {
    "collapsed": true
   },
   "outputs": [],
   "source": [
    "strf_split = StratifiedKFold(n_splits=10, shuffle=True, random_state=42)"
   ]
  },
  {
   "cell_type": "code",
   "execution_count": null,
   "metadata": {
    "collapsed": true
   },
   "outputs": [],
   "source": [
    "val_auc_scores = []\n",
    "test_preds_list = []\n",
    "\n",
    "cv_counter = 1\n",
    "\n",
    "for train_idx, val_idx in strf_split.split(X_train, Y):\n",
    "    print(\"***************** \", cv_counter, \" *****************\", end=\"\\n\\n\")\n",
    "    \n",
    "    t_x = X_train.iloc[train_idx]\n",
    "    v_x = X_train.iloc[val_idx]\n",
    "    \n",
    "    t_y = Y[train_idx]\n",
    "    v_y = Y[val_idx]\n",
    "    \n",
    "    ros = RandomOverSampler(sampling_strategy=0.6)\n",
    "    t_x, t_y = ros.fit_resample(t_x, t_y)\n",
    "    \n",
    "    params = {'bagging_freq': 1, 'bagging_fraction': 0.9, 'boosting_type': 'gbdt', 'class_weight': None, 'colsample_bytree': 0.25385461407805393, 'learning_rate': 0.05901911792677764, \n",
    "               'max_bin': 100, 'max_depth': 5, 'min_child_samples': 100, 'min_child_weight': 1.165370768368568, 'n_estimators': 1500, \n",
    "               'num_leaves': 185, 'reg_alpha': 1e-09, 'reg_lambda': 1000.0, 'subsample': 0.40936459175143447, 'subsample_for_bin': 174333, 'subsample_freq': 10}\n",
    "\n",
    "     \n",
    "    model = lgb.LGBMClassifier(**params, n_jobs=-1, silent=False)\n",
    "    \n",
    "    model = model.fit(t_x, t_y)\n",
    "    \n",
    "    \n",
    "    val_preds = model.predict_proba(v_x)[:,1]\n",
    "    val_score = roc_auc_score(v_y, val_preds)\n",
    "    \n",
    "    print(val_score)\n",
    "    \n",
    "    val_auc_scores.append(val_score)\n",
    "    \n",
    "        \n",
    "    test_preds = model.predict_proba(X_test)[:,1]\n",
    "    test_preds_list.append(test_preds)\n",
    "    \n",
    "    cv_counter+=1\n",
    "    \n",
    "    print(\"============\"*8, end=\"\\n\\n\")"
   ]
  },
  {
   "cell_type": "code",
   "execution_count": null,
   "metadata": {
    "collapsed": true
   },
   "outputs": [],
   "source": [
    "print(\"CV Score: \", np.mean(val_auc_scores))"
   ]
  },
  {
   "cell_type": "code",
   "execution_count": null,
   "metadata": {
    "collapsed": true
   },
   "outputs": [],
   "source": [
    "### Combine all CV preds for test\n",
    "test_preds_cv = pd.DataFrame(np.asarray(test_preds_list).T).mean(axis=1).values"
   ]
  },
  {
   "cell_type": "markdown",
   "metadata": {},
   "source": [
    "#### Prep Submission"
   ]
  },
  {
   "cell_type": "code",
   "execution_count": null,
   "metadata": {
    "collapsed": true
   },
   "outputs": [],
   "source": [
    "sample_submission['loan_default'] = test_preds_cv\n",
    "\n",
    "sample_submission.head()"
   ]
  },
  {
   "cell_type": "code",
   "execution_count": null,
   "metadata": {
    "collapsed": true
   },
   "outputs": [],
   "source": [
    "sample_submission.to_csv('lgb6_fe_bayestune_oversampling.csv', index=False)"
   ]
  }
 ],
 "metadata": {
  "kernelspec": {
   "display_name": "Python 3",
   "language": "python",
   "name": "python3"
  },
  "language_info": {
   "codemirror_mode": {
    "name": "ipython",
    "version": 3
   },
   "file_extension": ".py",
   "mimetype": "text/x-python",
   "name": "python",
   "nbconvert_exporter": "python",
   "pygments_lexer": "ipython3",
   "version": "3.7.1"
  }
 },
 "nbformat": 4,
 "nbformat_minor": 1
}
