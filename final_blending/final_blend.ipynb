{
 "cells": [
  {
   "cell_type": "code",
   "execution_count": 1,
   "metadata": {},
   "outputs": [],
   "source": [
    "import pandas as pd\n",
    "import numpy as np\n",
    "from scipy.stats import gmean"
   ]
  },
  {
   "cell_type": "code",
   "execution_count": 366,
   "metadata": {
    "tags": []
   },
   "outputs": [],
   "source": [
    "cb1 = pd.read_csv('../catboost/cb1.csv')\n",
    "cb2 = pd.read_csv('../catboost/cb2.csv')\n",
    "cb3 = pd.read_csv('../catboost/cb3.csv')\n",
    "\n",
    "lgb2 = pd.read_csv('../lightgbm/lgb2_base_features_oversampled.csv')\n",
    "lgb4 = pd.read_csv('../lightgbm/lgb4_base_features_goss_ov.csv')\n",
    "lgb5 = pd.read_csv('../lightgbm/lgb5_feV1_oversampling.csv')\n",
    "lgb6 = pd.read_csv('../lightgbm/lgb6_fe_bayestune_oversampling.csv')"
   ]
  },
  {
   "cell_type": "code",
   "execution_count": 3,
   "metadata": {},
   "outputs": [],
   "source": [
    "path = \"../feature_engineering_eda_data/\"\n",
    "\n",
    "sample_submission = pd.read_csv(path+'sample_submission_24jSKY6.csv')"
   ]
  },
  {
   "cell_type": "markdown",
   "metadata": {},
   "source": [
    "### Blending - Weighted and Geometric Mean"
   ]
  },
  {
   "cell_type": "code",
   "execution_count": 386,
   "metadata": {},
   "outputs": [
    {
     "data": {
      "text/plain": [
       "array([0.73073227, 0.86586421, 0.80577424, ..., 0.66609365, 0.85819739,\n",
       "       0.48547285])"
      ]
     },
     "execution_count": 386,
     "metadata": {},
     "output_type": "execute_result"
    }
   ],
   "source": [
    "gmean_df = pd.concat([cb1['loan_default'],\n",
    "                    cb2['loan_default'], \n",
    "                    cb3['loan_default'],\n",
    "                    lgb2['loan_default'],\n",
    "                    lgb4['loan_default'],\n",
    "                    lgb5['loan_default'],\n",
    "                    lgb6['loan_default']], axis=1)\n",
    "\n",
    "simple_gmean = gmean(gmean_df, axis=1)\n",
    "simple_gmean"
   ]
  },
  {
   "cell_type": "code",
   "execution_count": null,
   "metadata": {},
   "outputs": [],
   "source": [
    "simple_ar_mean = gmean_df.mean(axis=1)\n",
    "simple_ar_mean.head()"
   ]
  },
  {
   "cell_type": "markdown",
   "metadata": {},
   "source": [
    "Perp Preds"
   ]
  },
  {
   "cell_type": "code",
   "execution_count": 383,
   "metadata": {},
   "outputs": [
    {
     "data": {
      "text/html": [
       "<div>\n",
       "<style>\n",
       "    .dataframe thead tr:only-child th {\n",
       "        text-align: right;\n",
       "    }\n",
       "\n",
       "    .dataframe thead th {\n",
       "        text-align: left;\n",
       "    }\n",
       "\n",
       "    .dataframe tbody tr th {\n",
       "        vertical-align: top;\n",
       "    }\n",
       "</style>\n",
       "<table border=\"1\" class=\"dataframe\">\n",
       "  <thead>\n",
       "    <tr style=\"text-align: right;\">\n",
       "      <th></th>\n",
       "      <th>UniqueID</th>\n",
       "      <th>loan_default</th>\n",
       "    </tr>\n",
       "  </thead>\n",
       "  <tbody>\n",
       "    <tr>\n",
       "      <th>0</th>\n",
       "      <td>655269</td>\n",
       "      <td>0.739518</td>\n",
       "    </tr>\n",
       "    <tr>\n",
       "      <th>1</th>\n",
       "      <td>723482</td>\n",
       "      <td>0.881804</td>\n",
       "    </tr>\n",
       "    <tr>\n",
       "      <th>2</th>\n",
       "      <td>758529</td>\n",
       "      <td>0.809425</td>\n",
       "    </tr>\n",
       "    <tr>\n",
       "      <th>3</th>\n",
       "      <td>763449</td>\n",
       "      <td>0.887651</td>\n",
       "    </tr>\n",
       "    <tr>\n",
       "      <th>4</th>\n",
       "      <td>708663</td>\n",
       "      <td>0.735945</td>\n",
       "    </tr>\n",
       "  </tbody>\n",
       "</table>\n",
       "</div>"
      ],
      "text/plain": [
       "   UniqueID  loan_default\n",
       "0    655269      0.739518\n",
       "1    723482      0.881804\n",
       "2    758529      0.809425\n",
       "3    763449      0.887651\n",
       "4    708663      0.735945"
      ]
     },
     "execution_count": 383,
     "metadata": {},
     "output_type": "execute_result"
    }
   ],
   "source": [
    "sample_submission['loan_default'] = simple_ar_mean\n",
    "sample_submission.head()"
   ]
  },
  {
   "cell_type": "code",
   "execution_count": 384,
   "metadata": {
    "tags": []
   },
   "outputs": [],
   "source": [
    "sample_submission.to_csv('final_gmean_blend.csv', index=False)"
   ]
  },
  {
   "cell_type": "code",
   "execution_count": 1,
   "metadata": {},
   "outputs": [
    {
     "name": "stdout",
     "output_type": "stream",
     "text": [
      "--------------------------------------------------\n",
      "...Complete...\n"
     ]
    }
   ],
   "source": [
    "print(\"----------\"*5)\n",
    "print(\"...Complete...\")"
   ]
  }
 ],
 "metadata": {
  "kernelspec": {
   "display_name": "Python 3",
   "language": "python",
   "name": "python3"
  },
  "language_info": {
   "codemirror_mode": {
    "name": "ipython",
    "version": 3
   },
   "file_extension": ".py",
   "mimetype": "text/x-python",
   "name": "python",
   "nbconvert_exporter": "python",
   "pygments_lexer": "ipython3",
   "version": "3.8.2"
  }
 },
 "nbformat": 4,
 "nbformat_minor": 4
}
