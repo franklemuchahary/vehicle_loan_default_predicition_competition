{
 "cells": [
  {
   "cell_type": "code",
   "execution_count": null,
   "metadata": {},
   "outputs": [],
   "source": [
    "import os"
   ]
  },
  {
   "cell_type": "code",
   "execution_count": null,
   "metadata": {},
   "outputs": [],
   "source": [
    "home_path =  os.getcwd() + '/'"
   ]
  },
  {
   "cell_type": "markdown",
   "metadata": {},
   "source": [
    "#### Data Prep"
   ]
  },
  {
   "cell_type": "code",
   "execution_count": null,
   "metadata": {},
   "outputs": [],
   "source": [
    "os.chdir(home_path+'feature_engineering_eda_data/')\n",
    "! jupyter nbconvert --to python EDA+New_Features_V1.ipynb\n",
    "! python EDA+New_Features_V1.py"
   ]
  },
  {
   "cell_type": "code",
   "execution_count": null,
   "metadata": {},
   "outputs": [],
   "source": [
    "os.chdir(home_path+'feature_engineering_eda_data/')\n",
    "! jupyter nbconvert --to python EDA+New_Features_V2.ipynb\n",
    "! python EDA+New_Features_V2.py"
   ]
  },
  {
   "cell_type": "markdown",
   "metadata": {},
   "source": [
    "### Light GBM"
   ]
  },
  {
   "cell_type": "code",
   "execution_count": null,
   "metadata": {},
   "outputs": [],
   "source": [
    "#lgb2_base\n",
    "os.chdir(home_path+'lightgbm/')\n",
    "! jupyter nbconvert --to python lgb2_base_features_oversampled.ipynb\n",
    "! python lgb2_base_features_oversampled.py"
   ]
  },
  {
   "cell_type": "code",
   "execution_count": null,
   "metadata": {},
   "outputs": [],
   "source": [
    "#lgb4_base\n",
    "os.chdir(home_path+'lightgbm/')\n",
    "! jupyter nbconvert --to python lgb4_base_features_goss_ov.ipynb\n",
    "! python lgb4_base_features_goss_ov.py"
   ]
  },
  {
   "cell_type": "code",
   "execution_count": null,
   "metadata": {},
   "outputs": [],
   "source": [
    "#lgb5_fe_V1\n",
    "os.chdir(home_path+'lightgbm/')\n",
    "! jupyter nbconvert --to python lgb5_feV1_oversampling.ipynb\n",
    "! python lgb5_feV1_oversampling.py"
   ]
  },
  {
   "cell_type": "code",
   "execution_count": null,
   "metadata": {},
   "outputs": [],
   "source": [
    "#lgb 6 fev1 and bayesian tuning\n",
    "os.chdir(home_path+'lightgbm/')\n",
    "! jupyter nbconvert --to python lgb6_fe_bayestune_oversampling.ipynb\n",
    "! python lgb6_fe_bayestune_oversampling.py"
   ]
  },
  {
   "cell_type": "markdown",
   "metadata": {},
   "source": [
    "### CatBoost\n",
    "This part uses GPU"
   ]
  },
  {
   "cell_type": "code",
   "execution_count": null,
   "metadata": {},
   "outputs": [],
   "source": [
    "#cb1\n",
    "os.chdir(home_path+'catboost/')\n",
    "! jupyter nbconvert --to python catboost_fe_v1.ipynb\n",
    "! python catboost_fe_v1.py"
   ]
  },
  {
   "cell_type": "code",
   "execution_count": null,
   "metadata": {},
   "outputs": [],
   "source": [
    "#cb2\n",
    "os.chdir(home_path+'catboost/')\n",
    "! jupyter nbconvert --to python catboost_fe_v2.ipynb\n",
    "! python catboost_fe_v2.py"
   ]
  },
  {
   "cell_type": "code",
   "execution_count": null,
   "metadata": {},
   "outputs": [],
   "source": [
    "#cb3\n",
    "os.chdir(home_path+'catboost/')\n",
    "! jupyter nbconvert --to python catboost_fe_v3.ipynb\n",
    "! python catboost_fe_v3.py"
   ]
  },
  {
   "cell_type": "markdown",
   "metadata": {},
   "source": [
    "### Final Blend"
   ]
  },
  {
   "cell_type": "code",
   "execution_count": null,
   "metadata": {},
   "outputs": [],
   "source": [
    "os.chdir(home_path+'final_blending/')\n",
    "! jupyter nbconvert --to python final_blend.ipynb\n",
    "! python final_blend.py"
   ]
  }
 ],
 "metadata": {
  "kernelspec": {
   "display_name": "Python 3",
   "language": "python",
   "name": "python3"
  },
  "language_info": {
   "codemirror_mode": {
    "name": "ipython",
    "version": 3
   },
   "file_extension": ".py",
   "mimetype": "text/x-python",
   "name": "python",
   "nbconvert_exporter": "python",
   "pygments_lexer": "ipython3",
   "version": "3.8.2"
  }
 },
 "nbformat": 4,
 "nbformat_minor": 4
}
